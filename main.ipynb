{
 "cells": [
  {
   "cell_type": "code",
   "execution_count": 7,
   "metadata": {},
   "outputs": [
    {
     "name": "stdout",
     "output_type": "stream",
     "text": [
      "| Timestamp           | Age   | Gender   | Country        | state   | self_employed   | family_history   | treatment   | work_interfere   | no_employees   | remote_work   | tech_company   | benefits   | care_options   | wellness_program   | seek_help   | anonymity   | leave              | mental_health_consequence   | phys_health_consequence   | coworkers    | supervisor   | mental_health_interview   | phys_health_interview   | mental_vs_physical   | obs_consequence   | comments   |\n",
      "|:--------------------|:------|:---------|:---------------|:--------|:----------------|:-----------------|:------------|:-----------------|:---------------|:--------------|:---------------|:-----------|:---------------|:-------------------|:------------|:------------|:-------------------|:----------------------------|:--------------------------|:-------------|:-------------|:--------------------------|:------------------------|:---------------------|:------------------|:-----------|\n",
      "| 2014-08-27 11:29:31 | 37    | Female   | United States  | IL      | nan             | No               | Yes         | Often            | 6-25           | No            | Yes            | Yes        | Not sure       | No                 | Yes         | Yes         | Somewhat easy      | No                          | No                        | Some of them | Yes          | No                        | Maybe                   | Yes                  | No                | nan        |\n",
      "| 2014-08-27 11:29:37 | 44    | M        | United States  | IN      | nan             | No               | No          | Rarely           | More than 1000 | No            | No             | Don't know | No             | Don't know         | Don't know  | Don't know  | Don't know         | Maybe                       | No                        | No           | No           | No                        | No                      | Don't know           | No                | nan        |\n",
      "| 2014-08-27 11:29:44 | 32    | Male     | Canada         | nan     | nan             | No               | No          | Rarely           | 6-25           | No            | Yes            | No         | No             | No                 | No          | Don't know  | Somewhat difficult | No                          | No                        | Yes          | Yes          | Yes                       | Yes                     | No                   | No                | nan        |\n",
      "| 2014-08-27 11:29:46 | 31    | Male     | United Kingdom | nan     | nan             | Yes              | Yes         | Often            | 26-100         | No            | Yes            | No         | Yes            | No                 | No          | No          | Somewhat difficult | Yes                         | Yes                       | Some of them | No           | Maybe                     | Maybe                   | No                   | Yes               | nan        |\n",
      "| 2014-08-27 11:30:22 | 31    | Male     | United States  | TX      | nan             | No               | No          | Never            | 100-500        | Yes           | Yes            | Yes        | No             | Don't know         | Don't know  | Don't know  | Don't know         | No                          | No                        | Some of them | Yes          | Yes                       | Yes                     | Don't know           | No                | nan        |\n",
      "<class 'pandas.core.frame.DataFrame'>\n",
      "RangeIndex: 1259 entries, 0 to 1258\n",
      "Data columns (total 27 columns):\n",
      " #   Column                     Non-Null Count  Dtype \n",
      "---  ------                     --------------  ----- \n",
      " 0   Timestamp                  1259 non-null   object\n",
      " 1   Age                        1259 non-null   int64 \n",
      " 2   Gender                     1259 non-null   object\n",
      " 3   Country                    1259 non-null   object\n",
      " 4   state                      744 non-null    object\n",
      " 5   self_employed              1241 non-null   object\n",
      " 6   family_history             1259 non-null   object\n",
      " 7   treatment                  1259 non-null   object\n",
      " 8   work_interfere             995 non-null    object\n",
      " 9   no_employees               1259 non-null   object\n",
      " 10  remote_work                1259 non-null   object\n",
      " 11  tech_company               1259 non-null   object\n",
      " 12  benefits                   1259 non-null   object\n",
      " 13  care_options               1259 non-null   object\n",
      " 14  wellness_program           1259 non-null   object\n",
      " 15  seek_help                  1259 non-null   object\n",
      " 16  anonymity                  1259 non-null   object\n",
      " 17  leave                      1259 non-null   object\n",
      " 18  mental_health_consequence  1259 non-null   object\n",
      " 19  phys_health_consequence    1259 non-null   object\n",
      " 20  coworkers                  1259 non-null   object\n",
      " 21  supervisor                 1259 non-null   object\n",
      " 22  mental_health_interview    1259 non-null   object\n",
      " 23  phys_health_interview      1259 non-null   object\n",
      " 24  mental_vs_physical         1259 non-null   object\n",
      " 25  obs_consequence            1259 non-null   object\n",
      " 26  comments                   164 non-null    object\n",
      "dtypes: int64(1), object(26)\n",
      "memory usage: 265.7+ KB\n",
      "None\n"
     ]
    }
   ],
   "source": [
    "import pandas as pd\n",
    "\n",
    "# Read the CSV file into a DataFrame\n",
    "df = pd.read_csv('survey.csv')\n",
    "\n",
    "# Display the first 5 rows\n",
    "print(df.head(5).to_markdown(index=False, numalign=\"left\", stralign=\"left\"))\n",
    "\n",
    "# Print the column names and their data types\n",
    "print(df.info())"
   ]
  },
  {
   "cell_type": "code",
   "execution_count": 2,
   "metadata": {},
   "outputs": [
    {
     "name": "stdout",
     "output_type": "stream",
     "text": [
      "Unique values for treatment: ['Yes', 'No']\n",
      "Unique values for Gender (sample of 20): ['male', 'Malr', 'Female ', 'maile', 'Mail', 'male leaning androgynous', 'Female', 'cis male', 'queer/she/they', 'Enby', 'A little about you', 'Female (cis)', 'fluid', 'Mal', 'Cis Male', 'f', 'woman', 'something kinda male?', 'femail', 'Male ']\n",
      "Unique values for family_history: ['No', 'Yes']\n",
      "Unique values for no_employees: ['6-25', 'More than 1000', '26-100', '100-500', '1-5', '500-1000']\n",
      "Unique values for remote_work: ['No', 'Yes']\n",
      "Unique values for work_interfere: ['Often', 'Rarely', 'Never', 'Sometimes', nan]\n",
      "Unique values for tech_company: ['Yes', 'No']\n",
      "Unique values for benefits: ['Yes', \"Don't know\", 'No']\n",
      "Unique values for anonymity: ['Yes', \"Don't know\", 'No']\n",
      "Unique values for leave: ['Somewhat easy', \"Don't know\", 'Somewhat difficult', 'Very difficult', 'Very easy']\n",
      "Unique values for mental_health_interview: ['No', 'Yes', 'Maybe']\n"
     ]
    }
   ],
   "source": [
    "# List of columns to check unique values\n",
    "columns_to_check = ['treatment', 'Gender', 'family_history', 'no_employees', \n",
    "                    'remote_work', 'work_interfere', 'tech_company', 'benefits', \n",
    "                    'anonymity', 'leave', 'mental_health_interview']\n",
    "\n",
    "# Iterate through each column and print unique values\n",
    "for col in columns_to_check:\n",
    "    unique_values = df[col].unique()\n",
    "    if (len(unique_values) > 20):\n",
    "        # Sample 20 of them if there are too many unique values\n",
    "        print(f\"Unique values for {col} (sample of 20): {pd.Series(unique_values).sample(20, replace=False).tolist()}\")\n",
    "    else:\n",
    "        # Otherwise print all unique values from the column\n",
    "        print(f\"Unique values for {col}: {unique_values.tolist()}\")"
   ]
  },
  {
   "cell_type": "code",
   "execution_count": 3,
   "metadata": {},
   "outputs": [
    {
     "name": "stdout",
     "output_type": "stream",
     "text": [
      "\n",
      "**1. Prevalence of Treatment**\n",
      "\n",
      "Number of people who sought treatment: 637\n",
      "Percentage of people who sought treatment: 50.60%\n",
      "\n"
     ]
    }
   ],
   "source": [
    "# 1. Prevalence of Treatment\n",
    "treatment_counts = df['treatment'].value_counts()\n",
    "treatment_percentage = (treatment_counts / df.shape[0]) * 100\n",
    "\n",
    "print(\"\\n**1. Prevalence of Treatment**\\n\")\n",
    "print(f\"Number of people who sought treatment: {treatment_counts['Yes']}\")\n",
    "print(f\"Percentage of people who sought treatment: {treatment_percentage['Yes']:.2f}%\\n\")\n"
   ]
  },
  {
   "cell_type": "code",
   "execution_count": 4,
   "metadata": {},
   "outputs": [
    {
     "name": "stdout",
     "output_type": "stream",
     "text": [
      "\n",
      "**2. Treatment by Gender**\n",
      "\n",
      "Crosstab of Gender and Treatment:\n",
      "\n",
      "| simplified_gender   | No   | Yes   |\n",
      "|:--------------------|:-----|:------|\n",
      "| Female              | 76   | 169   |\n",
      "| Male                | 540  | 447   |\n",
      "| Other               | 6    | 21    |\n",
      "\n",
      "Proportion of each gender who sought treatment:\n",
      "\n",
      "| simplified_gender   | No       | Yes      |\n",
      "|:--------------------|:---------|:---------|\n",
      "| Female              | 0.310204 | 0.689796 |\n",
      "| Male                | 0.547112 | 0.452888 |\n",
      "| Other               | 0.222222 | 0.777778 |\n"
     ]
    }
   ],
   "source": [
    "# 2. Treatment by Gender\n",
    "# Simplify the 'Gender' column\n",
    "def simplify_gender(gender):\n",
    "    if gender.lower() in ['male', 'm', 'cis male', 'cis-male/trans-male', 'maile', 'male (cis)', 'msle', 'mal', 'male ', 'man', 'make']:\n",
    "        return 'Male'\n",
    "    elif gender.lower() in ['female', 'f', 'woman', 'femake', 'female (cis)', 'cis female', 'female ']:\n",
    "        return 'Female'\n",
    "    else:\n",
    "        return 'Other'\n",
    "\n",
    "df['simplified_gender'] = df['Gender'].astype(str).apply(simplify_gender)\n",
    "\n",
    "# Compute crosstab and proportions\n",
    "gender_treatment_ct = pd.crosstab(df['simplified_gender'], df['treatment'])\n",
    "gender_treatment_prop = gender_treatment_ct.div(gender_treatment_ct.sum(1).astype(float), axis=0)\n",
    "\n",
    "print(\"\\n**2. Treatment by Gender**\\n\")\n",
    "print(\"Crosstab of Gender and Treatment:\\n\")\n",
    "print(gender_treatment_ct.to_markdown(numalign=\"left\", stralign=\"left\"))\n",
    "print(\"\\nProportion of each gender who sought treatment:\\n\")\n",
    "print(gender_treatment_prop.to_markdown(numalign=\"left\", stralign=\"left\"))"
   ]
  },
  {
   "cell_type": "code",
   "execution_count": 8,
   "metadata": {},
   "outputs": [
    {
     "name": "stdout",
     "output_type": "stream",
     "text": [
      "\n",
      "**3. Family History and Treatment**\n",
      "\n",
      "Crosstab of Family History and Treatment:\n",
      "\n",
      "| family_history   | No   | Yes   |\n",
      "|:-----------------|:-----|:------|\n",
      "| No               | 495  | 272   |\n",
      "| Yes              | 127  | 365   |\n",
      "\n",
      "Proportion of individuals with and without family history who sought treatment:\n",
      "\n",
      "| family_history   | No       | Yes      |\n",
      "|:-----------------|:---------|:---------|\n",
      "| No               | 0.645372 | 0.354628 |\n",
      "| Yes              | 0.25813  | 0.74187  |\n"
     ]
    }
   ],
   "source": [
    "# 3. Family History and Treatment\n",
    "family_treatment_ct = pd.crosstab(df['family_history'], df['treatment'])\n",
    "family_treatment_prop = family_treatment_ct.div(family_treatment_ct.sum(1).astype(float), axis=0)\n",
    "\n",
    "print(\"\\n**3. Family History and Treatment**\\n\")\n",
    "print(\"Crosstab of Family History and Treatment:\\n\")\n",
    "print(family_treatment_ct.to_markdown(numalign=\"left\", stralign=\"left\"))\n",
    "print(\"\\nProportion of individuals with and without family history who sought treatment:\\n\")\n",
    "print(family_treatment_prop.to_markdown(numalign=\"left\", stralign=\"left\"))\n"
   ]
  },
  {
   "cell_type": "code",
   "execution_count": 9,
   "metadata": {},
   "outputs": [
    {
     "name": "stdout",
     "output_type": "stream",
     "text": [
      "\n",
      "**4. Company Size and Discussion**\n",
      "\n",
      "Crosstab of Company Size and Discussion of Mental Health:\n",
      "\n",
      "| no_employees   | No   | Yes   |\n",
      "|:---------------|:-----|:------|\n",
      "| 1-5            | 85   | 77    |\n",
      "| 100-500        | 95   | 81    |\n",
      "| 26-100         | 167  | 122   |\n",
      "| 500-1000       | 37   | 23    |\n",
      "| 6-25           | 146  | 144   |\n",
      "| More than 1000 | 183  | 99    |\n",
      "\n",
      "Proportion of individuals in each company size category who discussed mental health:\n",
      "\n",
      "| no_employees   | No       | Yes      |\n",
      "|:---------------|:---------|:---------|\n",
      "| 1-5            | 0.524691 | 0.475309 |\n",
      "| 100-500        | 0.539773 | 0.460227 |\n",
      "| 26-100         | 0.577855 | 0.422145 |\n",
      "| 500-1000       | 0.616667 | 0.383333 |\n",
      "| 6-25           | 0.503448 | 0.496552 |\n",
      "| More than 1000 | 0.648936 | 0.351064 |\n"
     ]
    }
   ],
   "source": [
    "# 4. Company Size and Discussion\n",
    "df['discussed_mental_health'] = df.apply(lambda row: 'Yes' if row['supervisor'] == 'Yes' or row['coworkers'] == 'Yes' else 'No', axis=1)\n",
    "company_discussion_ct = pd.crosstab(df['no_employees'], df['discussed_mental_health'])\n",
    "company_discussion_prop = company_discussion_ct.div(company_discussion_ct.sum(1).astype(float), axis=0)\n",
    "\n",
    "print(\"\\n**4. Company Size and Discussion**\\n\")\n",
    "print(\"Crosstab of Company Size and Discussion of Mental Health:\\n\")\n",
    "print(company_discussion_ct.to_markdown(numalign=\"left\", stralign=\"left\"))\n",
    "print(\"\\nProportion of individuals in each company size category who discussed mental health:\\n\")\n",
    "print(company_discussion_prop.to_markdown(numalign=\"left\", stralign=\"left\"))\n"
   ]
  },
  {
   "cell_type": "code",
   "execution_count": 10,
   "metadata": {},
   "outputs": [
    {
     "name": "stdout",
     "output_type": "stream",
     "text": [
      "\n",
      "**5. Remote Work and Work Interference**\n",
      "\n",
      "Crosstab of Remote Work and Work Interference:\n",
      "\n",
      "| remote_work   | Never   | Often   | Rarely   | Sometimes   |\n",
      "|:--------------|:--------|:--------|:---------|:------------|\n",
      "| No            | 157     | 93      | 119      | 322         |\n",
      "| Yes           | 56      | 51      | 54       | 143         |\n",
      "\n",
      "Proportion of individuals in each remote work category who reported different levels of work interference:\n",
      "\n",
      "| remote_work   | Never    | Often    | Rarely   | Sometimes   |\n",
      "|:--------------|:---------|:---------|:---------|:------------|\n",
      "| No            | 0.227207 | 0.134588 | 0.172214 | 0.465991    |\n",
      "| Yes           | 0.184211 | 0.167763 | 0.177632 | 0.470395    |\n"
     ]
    }
   ],
   "source": [
    "# 5. Remote Work and Work Interference\n",
    "remote_work_interfere_ct = pd.crosstab(df['remote_work'], df['work_interfere'])\n",
    "remote_work_interfere_prop = remote_work_interfere_ct.div(remote_work_interfere_ct.sum(1).astype(float), axis=0)\n",
    "\n",
    "print(\"\\n**5. Remote Work and Work Interference**\\n\")\n",
    "print(\"Crosstab of Remote Work and Work Interference:\\n\")\n",
    "print(remote_work_interfere_ct.to_markdown(numalign=\"left\", stralign=\"left\"))\n",
    "print(\"\\nProportion of individuals in each remote work category who reported different levels of work interference:\\n\")\n",
    "print(remote_work_interfere_prop.to_markdown(numalign=\"left\", stralign=\"left\"))\n"
   ]
  },
  {
   "cell_type": "code",
   "execution_count": 11,
   "metadata": {},
   "outputs": [
    {
     "name": "stdout",
     "output_type": "stream",
     "text": [
      "\n",
      "**6. Tech Companies and Treatment**\n",
      "\n",
      "Crosstab of Tech Company and Treatment:\n",
      "\n",
      "| tech_company   | No   | Yes   |\n",
      "|:---------------|:-----|:------|\n",
      "| No             | 105  | 123   |\n",
      "| Yes            | 517  | 514   |\n",
      "\n",
      "Proportion of individuals in tech and non-tech companies who sought treatment:\n",
      "\n",
      "| tech_company   | No       | Yes      |\n",
      "|:---------------|:---------|:---------|\n",
      "| No             | 0.460526 | 0.539474 |\n",
      "| Yes            | 0.501455 | 0.498545 |\n"
     ]
    }
   ],
   "source": [
    "# 6. Tech Companies and Treatment\n",
    "tech_treatment_ct = pd.crosstab(df['tech_company'], df['treatment'])\n",
    "tech_treatment_prop = tech_treatment_ct.div(tech_treatment_ct.sum(1).astype(float), axis=0)\n",
    "\n",
    "print(\"\\n**6. Tech Companies and Treatment**\\n\")\n",
    "print(\"Crosstab of Tech Company and Treatment:\\n\")\n",
    "print(tech_treatment_ct.to_markdown(numalign=\"left\", stralign=\"left\"))\n",
    "print(\"\\nProportion of individuals in tech and non-tech companies who sought treatment:\\n\")\n",
    "print(tech_treatment_prop.to_markdown(numalign=\"left\", stralign=\"left\"))\n"
   ]
  },
  {
   "cell_type": "code",
   "execution_count": 12,
   "metadata": {},
   "outputs": [
    {
     "name": "stdout",
     "output_type": "stream",
     "text": [
      "\n",
      "**7. Benefits and Treatment**\n",
      "\n",
      "Crosstab of Benefits and Treatment:\n",
      "\n",
      "| benefits   | No   | Yes   |\n",
      "|:-----------|:-----|:------|\n",
      "| Don't know | 257  | 151   |\n",
      "| No         | 193  | 181   |\n",
      "| Yes        | 172  | 305   |\n",
      "\n",
      "Proportion of individuals with and without benefits who sought treatment:\n",
      "\n",
      "| benefits   | No       | Yes      |\n",
      "|:-----------|:---------|:---------|\n",
      "| Don't know | 0.629902 | 0.370098 |\n",
      "| No         | 0.516043 | 0.483957 |\n",
      "| Yes        | 0.360587 | 0.639413 |\n"
     ]
    }
   ],
   "source": [
    "# 7. Benefits and Treatment\n",
    "benefits_treatment_ct = pd.crosstab(df['benefits'], df['treatment'])\n",
    "benefits_treatment_prop = benefits_treatment_ct.div(benefits_treatment_ct.sum(1).astype(float), axis=0)\n",
    "\n",
    "print(\"\\n**7. Benefits and Treatment**\\n\")\n",
    "print(\"Crosstab of Benefits and Treatment:\\n\")\n",
    "print(benefits_treatment_ct.to_markdown(numalign=\"left\", stralign=\"left\"))\n",
    "print(\"\\nProportion of individuals with and without benefits who sought treatment:\\n\")\n",
    "print(benefits_treatment_prop.to_markdown(numalign=\"left\", stralign=\"left\"))\n"
   ]
  },
  {
   "cell_type": "code",
   "execution_count": 13,
   "metadata": {},
   "outputs": [
    {
     "name": "stdout",
     "output_type": "stream",
     "text": [
      "\n",
      "**8. Anonymity and Seeking Help**\n",
      "\n",
      "Crosstab of Anonymity and Treatment:\n",
      "\n",
      "| anonymity   | No   | Yes   |\n",
      "|:------------|:-----|:------|\n",
      "| Don't know  | 448  | 371   |\n",
      "| No          | 27   | 38    |\n",
      "| Yes         | 147  | 228   |\n",
      "\n",
      "Proportion of individuals with different perceived levels of anonymity who sought treatment:\n",
      "\n",
      "| anonymity   | No       | Yes      |\n",
      "|:------------|:---------|:---------|\n",
      "| Don't know  | 0.547009 | 0.452991 |\n",
      "| No          | 0.415385 | 0.584615 |\n",
      "| Yes         | 0.392    | 0.608    |\n"
     ]
    }
   ],
   "source": [
    "# 8. Anonymity and Seeking Help\n",
    "anonymity_treatment_ct = pd.crosstab(df['anonymity'], df['treatment'])\n",
    "anonymity_treatment_prop = anonymity_treatment_ct.div(anonymity_treatment_ct.sum(1).astype(float), axis=0)\n",
    "\n",
    "print(\"\\n**8. Anonymity and Seeking Help**\\n\")\n",
    "print(\"Crosstab of Anonymity and Treatment:\\n\")\n",
    "print(anonymity_treatment_ct.to_markdown(numalign=\"left\", stralign=\"left\"))\n",
    "print(\"\\nProportion of individuals with different perceived levels of anonymity who sought treatment:\\n\")\n",
    "print(anonymity_treatment_prop.to_markdown(numalign=\"left\", stralign=\"left\"))\n"
   ]
  },
  {
   "cell_type": "code",
   "execution_count": 18,
   "metadata": {},
   "outputs": [
    {
     "name": "stdout",
     "output_type": "stream",
     "text": [
      "\n",
      "**9. Leave and Treatment**\n",
      "\n",
      "Crosstab of Leave and Treatment:\n",
      "\n",
      "| leave              | No   | Yes   |\n",
      "|:-------------------|:-----|:------|\n",
      "| Don't know         | 309  | 254   |\n",
      "| Somewhat difficult | 44   | 82    |\n",
      "| Somewhat easy      | 135  | 131   |\n",
      "| Very difficult     | 31   | 67    |\n",
      "| Very easy          | 103  | 103   |\n",
      "\n",
      "Proportion of individuals with different perceived ease of taking leave who sought treatment:\n",
      "\n",
      "| leave              | No       | Yes      |\n",
      "|:-------------------|:---------|:---------|\n",
      "| Don't know         | 0.548845 | 0.451155 |\n",
      "| Somewhat difficult | 0.349206 | 0.650794 |\n",
      "| Somewhat easy      | 0.507519 | 0.492481 |\n",
      "| Very difficult     | 0.316327 | 0.683673 |\n",
      "| Very easy          | 0.5      | 0.5      |\n"
     ]
    }
   ],
   "source": [
    "# 9. Leave and Treatment\n",
    "leave_treatment_ct = pd.crosstab(df['leave'], df['treatment'])\n",
    "leave_treatment_prop = leave_treatment_ct.div(leave_treatment_ct.sum(1).astype(float), axis=0)\n",
    "\n",
    "print(\"\\n**9. Leave and Treatment**\\n\")\n",
    "print(\"Crosstab of Leave and Treatment:\\n\")\n",
    "print(leave_treatment_ct.to_markdown(numalign=\"left\", stralign=\"left\"))\n",
    "print(\"\\nProportion of individuals with different perceived ease of taking leave who sought treatment:\\n\")\n",
    "print(leave_treatment_prop.to_markdown(numalign=\"left\", stralign=\"left\"))\n"
   ]
  },
  {
   "cell_type": "code",
   "execution_count": 15,
   "metadata": {},
   "outputs": [
    {
     "name": "stdout",
     "output_type": "stream",
     "text": [
      "\n",
      "**10. Interview Comfort and Treatment**\n",
      "\n",
      "Crosstab of Mental Health Interview Comfort and Treatment:\n",
      "\n",
      "| mental_health_interview   | No   | Yes   |\n",
      "|:--------------------------|:-----|:------|\n",
      "| Maybe                     | 125  | 82    |\n",
      "| No                        | 479  | 529   |\n",
      "| Yes                       | 18   | 26    |\n",
      "\n",
      "Proportion of individuals with different comfort levels discussing mental health in interviews who sought treatment:\n",
      "\n",
      "| mental_health_interview   | No       | Yes      |\n",
      "|:--------------------------|:---------|:---------|\n",
      "| Maybe                     | 0.603865 | 0.396135 |\n",
      "| No                        | 0.475198 | 0.524802 |\n",
      "| Yes                       | 0.409091 | 0.590909 |\n"
     ]
    }
   ],
   "source": [
    "# 10. Interview Comfort and Treatment\n",
    "interview_treatment_ct = pd.crosstab(df['mental_health_interview'], df['treatment'])\n",
    "interview_treatment_prop = interview_treatment_ct.div(interview_treatment_ct.sum(1).astype(float), axis=0)\n",
    "\n",
    "print(\"\\n**10. Interview Comfort and Treatment**\\n\")\n",
    "print(\"Crosstab of Mental Health Interview Comfort and Treatment:\\n\")\n",
    "print(interview_treatment_ct.to_markdown(numalign=\"left\", stralign=\"left\"))\n",
    "print(\"\\nProportion of individuals with different comfort levels discussing mental health in interviews who sought treatment:\\n\")\n",
    "print(interview_treatment_prop.to_markdown(numalign=\"left\", stralign=\"left\"))"
   ]
  }
 ],
 "metadata": {
  "kernelspec": {
   "display_name": "Python 3",
   "language": "python",
   "name": "python3"
  },
  "language_info": {
   "codemirror_mode": {
    "name": "ipython",
    "version": 3
   },
   "file_extension": ".py",
   "mimetype": "text/x-python",
   "name": "python",
   "nbconvert_exporter": "python",
   "pygments_lexer": "ipython3",
   "version": "3.12.0"
  }
 },
 "nbformat": 4,
 "nbformat_minor": 2
}
